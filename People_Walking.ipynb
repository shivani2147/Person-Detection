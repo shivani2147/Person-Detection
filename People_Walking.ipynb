{
 "cells": [
  {
   "cell_type": "code",
   "execution_count": 1,
   "id": "fb7d44f6",
   "metadata": {},
   "outputs": [],
   "source": [
    "# Importing libraries\n",
    "\n",
    "from ultralytics import YOLO\n",
    "import cv2\n",
    "import cvzone\n",
    "import math"
   ]
  },
  {
   "cell_type": "code",
   "execution_count": 2,
   "id": "792e52eb",
   "metadata": {},
   "outputs": [],
   "source": [
    "# Capture the video\n",
    "cap = cv2.VideoCapture(\"D:\\Videos\\people_.mp4\")"
   ]
  },
  {
   "cell_type": "code",
   "execution_count": 3,
   "id": "15d6f797",
   "metadata": {},
   "outputs": [],
   "source": [
    "## Create a model of YOLOv8\n",
    "model = YOLO(\"yolov8n.pt\")"
   ]
  },
  {
   "cell_type": "code",
   "execution_count": 4,
   "id": "dba413a3",
   "metadata": {},
   "outputs": [],
   "source": [
    "classNames = ['person', 'bicycle', 'car', 'motorbike', 'aeroplane', 'bus', 'train', 'truck', 'boat', 'traffic light', \n",
    "              'fire hydrant', 'stop sign', 'parking meter', 'bench', 'bird', 'cat', 'dog', 'horse', 'sheep', 'cow', \n",
    "              'elephant', 'bear', 'zebra', 'giraffe', 'backpack', 'umbrella', 'handbag', 'tie', 'suitcase', 'frisbee', \n",
    "              'skis', 'snowboard', 'sports ball', 'kite', 'baseball bat', 'baseball glove', 'skateboard', 'surfboard', \n",
    "              'tennis racket', 'bottle', 'wine glass', 'cup', 'fork', 'knife', 'spoon', 'bowl', 'banana', 'apple', \n",
    "              'sandwich', 'orange', 'broccoli', 'carrot', 'hot dog', 'pizza', 'donut', 'cake', 'chair', 'sofa', \n",
    "              'potted plant', 'bed', 'dining table', 'toilet', 'tv monitor', 'laptop', 'mouse', 'remote', 'keyboard', \n",
    "              'cell phone', 'microwave', 'oven', 'toaster', 'sink', 'refrigerator', 'book', 'clock', 'vase', \n",
    "              'scissors', 'teddy bear', 'hair drier', 'toothbrush']"
   ]
  },
  {
   "cell_type": "code",
   "execution_count": 5,
   "id": "17fc521f",
   "metadata": {},
   "outputs": [],
   "source": [
    "fourcc = cv2.VideoWriter_fourcc(*'mp4v')\n",
    "out = cv2.VideoWriter(\"People Walking.mp4\", fourcc, 30.0, (1920, 1080))\n",
    "\n",
    "while True : \n",
    "    ret, frame = cap.read()\n",
    "    frame = cv2.resize(frame, (640, 480))\n",
    "    if not ret:\n",
    "        break\n",
    "    results = model(frame, stream = True, verbose = False, conf = 0.5)\n",
    "        \n",
    "    \n",
    "    for r in results : \n",
    "        boxes = r.boxes\n",
    "        for box in boxes : \n",
    "            x1, y1, x2, y2 = box.xyxy[0]            # unpack the coordinates of a bounding box\n",
    "            x1, y1, x2, y2 = int(x1), int(y1), int(x2), int(y2) \n",
    "            w, h = x2 - x1, y2 - y1\n",
    "            conf = math.ceil((box.conf[0] * 100)) / 100\n",
    "            cls = int(box.cls[0]) \n",
    "            currentClass = classNames[cls]    \n",
    "            \n",
    "            if currentClass == 'person' :\n",
    "                cvzone.cornerRect(frame, (x1, y1, w, h), 8, rt = 2, colorR = (74, 194, 55))\n",
    "                        # 8 : The radius of the rounded corners\n",
    "                        # rt : The thickness of the rectangle border\n",
    "                cvzone.putTextRect(frame, f\"Person: {conf:.2f}\", (max(0, x1), max(40, y1 - 10)), scale = 1.2, \n",
    "                                   colorR = (0, 255, 0), colorT = (0,0,0), thickness = 0, offset = 5)\n",
    "\n",
    "    out.write(frame)\n",
    "    cv2.imshow(\"People Walking\", frame)\n",
    "    if cv2.waitKey(1) == ord('q') : \n",
    "        break\n",
    "        \n",
    "cap.release()\n",
    "out.release()\n",
    "cv2.destroyAllWindows()"
   ]
  },
  {
   "cell_type": "code",
   "execution_count": null,
   "id": "9d2e78fc",
   "metadata": {},
   "outputs": [],
   "source": []
  }
 ],
 "metadata": {
  "kernelspec": {
   "display_name": "YOLO",
   "language": "python",
   "name": "yolo"
  },
  "language_info": {
   "codemirror_mode": {
    "name": "ipython",
    "version": 3
   },
   "file_extension": ".py",
   "mimetype": "text/x-python",
   "name": "python",
   "nbconvert_exporter": "python",
   "pygments_lexer": "ipython3",
   "version": "3.11.2"
  }
 },
 "nbformat": 4,
 "nbformat_minor": 5
}
